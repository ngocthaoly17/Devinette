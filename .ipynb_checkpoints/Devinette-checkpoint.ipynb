{
 "cells": [
  {
   "cell_type": "code",
   "execution_count": null,
   "metadata": {},
   "outputs": [],
   "source": [
    "import random\n",
    "\n",
    "print(\"Bienvenue dans le jeu de devinette. Vous allez jouer deux parties de 5 fois\")\n",
    "\n",
    "class devinette:\n",
    "\n",
    "    def jouer(self, max_num):\n",
    "\n",
    "        self.points = 0\n",
    "\n",
    "        for jeu in range(0,5):\n",
    "\n",
    "            chiffre = random.randint(1, max_num)\n",
    "            dev = int(input(\"Veuillez choisir un chiffre entre 1 et {} \".format(max_num)))\n",
    "\n",
    "            if chiffre == dev:\n",
    "                self.points += 1\n",
    "                print(\"bien joué!\")\n",
    "\n",
    "            else:\n",
    "                print(\"L'ordinateur a choisi {}\".format(chiffre))\n",
    "\n",
    "        return self.points"
   ]
  },
  {
   "cell_type": "code",
   "execution_count": null,
   "metadata": {},
   "outputs": [],
   "source": [
    "# Commencement du jeu\n",
    "\n",
    "\n",
    "partie_1 = devinette()\n",
    "\n",
    "partie_1.jouer(int(input('veuillez choisir le nombre maximal ')))\n",
    "\n",
    "partie_2 = devinette()\n",
    "\n",
    "partie_2.jouer(int(input('veuillez choisir le nombre maximal ')))\n",
    "\n"
   ]
  },
  {
   "cell_type": "code",
   "execution_count": null,
   "metadata": {},
   "outputs": [],
   "source": [
    "# Résultat de la partie\n",
    "\n",
    "print(\"Voici le résultat: partie 1: {}, partie 2: {}\".format(partie_1.points, partie_2.points))\n",
    "\n",
    "if partie_1.points < partie_2.points:\n",
    "    print(\"vous avez mieux joué lors du premier jeu\")\n",
    "\n",
    "elif partie_1.points == partie_2.points:\n",
    "\n",
    "    print(\"vous avez les mêmes nombres de points\")\n",
    "\n",
    "else: print(\"vous avez mieux joué lors du second jeu\")"
   ]
  },
  {
   "cell_type": "code",
   "execution_count": null,
   "metadata": {},
   "outputs": [],
   "source": []
  },
  {
   "cell_type": "code",
   "execution_count": null,
   "metadata": {},
   "outputs": [],
   "source": []
  }
 ],
 "metadata": {
  "kernelspec": {
   "display_name": "Python 3",
   "language": "python",
   "name": "python3"
  }
 },
 "nbformat": 4,
 "nbformat_minor": 2
}
